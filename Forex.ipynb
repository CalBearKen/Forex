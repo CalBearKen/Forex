{
 "cells": [
  {
   "cell_type": "code",
   "execution_count": 31,
   "metadata": {
    "collapsed": false
   },
   "outputs": [
    {
     "name": "stdout",
     "output_type": "stream",
     "text": [
      "<class 'pandas.core.frame.DataFrame'>\n",
      "Index: 782 entries, 2016-03-11 to 2019-03-11\n",
      "Data columns (total 3 columns):\n",
      "EUR/USD Close    782 non-null float64\n",
      "EUR/USD High     782 non-null float64\n",
      "EUR/USD Low      782 non-null float64\n",
      "dtypes: float64(3)\n",
      "memory usage: 24.4+ KB\n",
      "None\n",
      "            EUR/USD Close  EUR/USD High  EUR/USD Low\n",
      "Results                                             \n",
      "2016-03-11        1.11529       1.12095      1.10807\n",
      "2016-03-14        1.10970       1.11757      1.10781\n",
      "2016-03-15        1.11100       1.11250      1.10723\n",
      "2016-03-16        1.12248       1.12423      1.10581\n",
      "2016-03-17        1.13160       1.13423      1.12055\n",
      "            EUR/USD Close  EUR/USD High  EUR/USD Low\n",
      "Results                                             \n",
      "2016-03-11        1.11529       1.12095      1.10807\n",
      "2016-03-14        1.10970       1.11757      1.10781\n",
      "2016-03-15        1.11100       1.11250      1.10723\n",
      "2016-03-16        1.12248       1.12423      1.10581\n",
      "2016-03-17        1.13160       1.13423      1.12055\n",
      "2016-03-18        1.12681       1.13370      1.12565\n",
      "2016-03-21        1.12494       1.12850      1.12347\n",
      "2016-03-22        1.12190       1.12610      1.11888\n",
      "2016-03-23        1.11810       1.12233      1.11598\n",
      "2016-03-24        1.11753       1.11874      1.11443\n",
      "2016-03-25        1.11620       1.11792      1.11545\n",
      "2016-03-28        1.11999       1.12198      1.11530\n",
      "2016-03-29        1.13020       1.13030      1.11691\n",
      "2016-03-30        1.13369       1.13653      1.12860\n",
      "2016-03-31        1.13845       1.14116      1.13107\n",
      "2016-04-01        1.13940       1.14377      1.13347\n",
      "2016-04-04        1.13960       1.14125      1.13576\n",
      "2016-04-05        1.13810       1.14051      1.13361\n",
      "2016-04-06        1.14050       1.14315      1.13268\n",
      "2016-04-07        1.13724       1.14539      1.13379\n",
      "2016-04-08        1.13996       1.14192      1.13490\n",
      "2016-04-11        1.14057       1.14472      1.13725\n",
      "2016-04-12        1.13930       1.14646      1.13455\n",
      "2016-04-13        1.12864       1.13910      1.12726\n",
      "2016-04-14        1.12620       1.12947      1.12340\n",
      "2016-04-15        1.12850       1.13169      1.12458\n",
      "2016-04-18        1.13142       1.13322      1.12740\n",
      "2016-04-19        1.13680       1.13845      1.13038\n",
      "2016-04-20        1.12980       1.13878      1.12911\n",
      "2016-04-21        1.12930       1.13972      1.12704\n",
      "2016-04-22        1.12290       1.13084      1.12185\n",
      "2016-04-25        1.12626       1.12781      1.12189\n",
      "2016-04-26        1.12817       1.13396      1.12565\n",
      "2016-04-27        1.13125       1.13604      1.12721\n",
      "2016-04-28        1.13520       1.13679      1.12960\n",
      "2016-04-29        1.14465       1.14591      1.13484\n",
      "2016-05-02        1.15182       1.15349      1.14486\n",
      "2016-05-03        1.15055       1.16162      1.15013\n",
      "2016-05-04        1.14930       1.15293      1.14666\n",
      "2016-05-05        1.14010       1.14940      1.13862\n",
      "2016-05-06        1.14018       1.14802      1.13871\n",
      "2016-05-09        1.13847       1.14196      1.13757\n",
      "2016-05-10        1.13691       1.14097      1.13586\n",
      "2016-05-11        1.14234       1.14470      1.13699\n",
      "2016-05-12        1.13710       1.14290      1.13722\n",
      "2016-05-13        1.13188       1.13796      1.12832\n",
      "2016-05-16        1.13195       1.13422      1.13027\n",
      "2016-05-17        1.13190       1.13482      1.13024\n",
      "2016-05-18        1.12195       1.13159      1.12196\n",
      "2016-05-19        1.12020       1.12300      1.11803\n",
      "2016-05-20        1.12140       1.12372      1.11967\n",
      "2016-05-23        1.12146       1.12430      1.11878\n",
      "2016-05-24        1.11403       1.12269      1.11330\n",
      "2016-05-25        1.11604       1.11670      1.11292\n",
      "2016-05-26        1.11901       1.12170      1.11501\n",
      "2016-05-27        1.11130       1.12006      1.11119\n",
      "2016-05-30        1.11340       1.11450      1.10983\n",
      "2016-05-31        1.11338       1.11732      1.11224\n"
     ]
    },
    {
     "ename": "TypeError",
     "evalue": "scatter() got multiple values for keyword argument 'x'",
     "output_type": "error",
     "traceback": [
      "\u001b[1;31m---------------------------------------------------------------------------\u001b[0m",
      "\u001b[1;31mTypeError\u001b[0m                                 Traceback (most recent call last)",
      "\u001b[1;32m<ipython-input-31-947e28c03377>\u001b[0m in \u001b[0;36m<module>\u001b[1;34m()\u001b[0m\n\u001b[0;32m     33\u001b[0m \u001b[0mwinter2016\u001b[0m \u001b[1;33m=\u001b[0m \u001b[0mdata\u001b[0m\u001b[1;33m[\u001b[0m\u001b[1;34m'2016-12-01'\u001b[0m\u001b[1;33m:\u001b[0m\u001b[1;34m'2016-02-28'\u001b[0m\u001b[1;33m]\u001b[0m\u001b[1;33m\u001b[0m\u001b[0m\n\u001b[0;32m     34\u001b[0m \u001b[1;33m\u001b[0m\u001b[0m\n\u001b[1;32m---> 35\u001b[1;33m \u001b[0m_\u001b[0m \u001b[1;33m=\u001b[0m \u001b[0mplt\u001b[0m\u001b[1;33m.\u001b[0m\u001b[0mscatter\u001b[0m\u001b[1;33m(\u001b[0m\u001b[0mdata\u001b[0m\u001b[1;33m,\u001b[0m \u001b[0mx\u001b[0m\u001b[1;33m=\u001b[0m\u001b[0mdata\u001b[0m\u001b[1;33m.\u001b[0m\u001b[0mindex\u001b[0m\u001b[1;33m,\u001b[0m \u001b[0my\u001b[0m\u001b[1;33m=\u001b[0m\u001b[0mdata\u001b[0m\u001b[1;33m[\u001b[0m\u001b[1;34m'EUR/USD Close'\u001b[0m\u001b[1;33m]\u001b[0m\u001b[1;33m)\u001b[0m\u001b[1;33m\u001b[0m\u001b[0m\n\u001b[0m\u001b[0;32m     36\u001b[0m \u001b[0mplt\u001b[0m\u001b[1;33m.\u001b[0m\u001b[0mshow\u001b[0m\u001b[1;33m(\u001b[0m\u001b[1;33m)\u001b[0m\u001b[1;33m\u001b[0m\u001b[0m\n\u001b[0;32m     37\u001b[0m \u001b[1;33m\u001b[0m\u001b[0m\n",
      "\u001b[1;31mTypeError\u001b[0m: scatter() got multiple values for keyword argument 'x'"
     ]
    }
   ],
   "source": [
    "import pandas as pd\n",
    "import numpy as np\n",
    "import matplotlib.pyplot as plt\n",
    "import matplotlib.ticker as mticker\n",
    "\n",
    "\n",
    "\n",
    "'''importing forex time series from 2016-03-11 to 2019-03-11, can download data of other time periods later'''\n",
    "\n",
    "file = pd.read_csv('exchange.csv', parse_dates=['Results'], index_col='Results')\n",
    "\n",
    "'''splits the summary part of the file from the actual timeseries data'''\n",
    "summary = file[0:5].copy()\n",
    "data = file[6:].copy()\n",
    "\n",
    "'''converts obj columns to floats'''\n",
    "data[('EUR/USD Close')] = data['EUR/USD Close'].astype(float)\n",
    "data[('EUR/USD High')] = data['EUR/USD High'].astype(float)\n",
    "data[('EUR/USD Low')] = data['EUR/USD Low'].astype(float)\n",
    "\n",
    "print(data.info())\n",
    "print(data.head())\n",
    "#data.head()\n",
    "\n",
    "#_ = plt.plot(data)\n",
    "#plt.show()\n",
    "\n",
    "'''Split data by seasons; spring:Mar1-May31; summer:Jun1-Aug31; fall:Sept1-Nov30; winter:Dec1-Feb28'''\n",
    "spring2016 = data['2016-03-11':'2016-05-31']\n",
    "print(spring2016)\n",
    "summer2016 = data['2016-06-01':'2016-08-31']\n",
    "fall2016 = data['2016-09-01':'2016-11-30']\n",
    "winter2016 = data['2016-12-01':'2016-02-28']\n",
    "\n",
    "_ = plt.scatter(x=data.index, y=data['EUR/USD Close'])\n",
    "plt.show()\n",
    "\n",
    "\n"
   ]
  },
  {
   "cell_type": "code",
   "execution_count": 33,
   "metadata": {
    "collapsed": false
   },
   "outputs": [
    {
     "name": "stdout",
     "output_type": "stream",
     "text": [
      "<class 'pandas.core.frame.DataFrame'>\n",
      "Index: 782 entries, 2016-03-11 to 2019-03-11\n",
      "Data columns (total 3 columns):\n",
      "EUR/USD Close    782 non-null float64\n",
      "EUR/USD High     782 non-null float64\n",
      "EUR/USD Low      782 non-null float64\n",
      "dtypes: float64(3)\n",
      "memory usage: 24.4+ KB\n"
     ]
    },
    {
     "data": {
      "text/plain": [
       "Index([u'2016-03-11', u'2016-03-14', u'2016-03-15', u'2016-03-16',\n",
       "       u'2016-03-17', u'2016-03-18', u'2016-03-21', u'2016-03-22',\n",
       "       u'2016-03-23', u'2016-03-24',\n",
       "       ...\n",
       "       u'2019-02-26', u'2019-02-27', u'2019-02-28', u'2019-03-01',\n",
       "       u'2019-03-04', u'2019-03-05', u'2019-03-06', u'2019-03-07',\n",
       "       u'2019-03-08', u'2019-03-11'],\n",
       "      dtype='object', name=u'Results', length=782)"
      ]
     },
     "execution_count": 33,
     "metadata": {},
     "output_type": "execute_result"
    }
   ],
   "source": [
    "data.info()\n",
    "data.index"
   ]
  },
  {
   "cell_type": "code",
   "execution_count": 11,
   "metadata": {
    "collapsed": false
   },
   "outputs": [
    {
     "name": "stdout",
     "output_type": "stream",
     "text": [
      "C:\\Users\\Ken\\AppData\\Roaming\\jupyter\n"
     ]
    }
   ],
   "source": [
    "from jupyter_core.paths import jupyter_data_dir\n",
    "print(jupyter_data_dir())"
   ]
  }
 ],
 "metadata": {
  "kernelspec": {
   "display_name": "Python 2",
   "language": "python",
   "name": "python2"
  },
  "language_info": {
   "codemirror_mode": {
    "name": "ipython",
    "version": 2
   },
   "file_extension": ".py",
   "mimetype": "text/x-python",
   "name": "python",
   "nbconvert_exporter": "python",
   "pygments_lexer": "ipython2",
   "version": "2.7.11"
  }
 },
 "nbformat": 4,
 "nbformat_minor": 2
}
