{
 "cells": [
  {
   "cell_type": "code",
   "execution_count": null,
   "metadata": {},
   "outputs": [],
   "source": [
    "FORGE: AaFU9tD7XX6VPYV02lJE9m41uJBecXYJ\n",
    "    #https://1forge.com/forex-data-api/api-documentation\n",
    "    \n",
    "#base URL: http://forex.1forge.com/1.0.3/"
   ]
  },
  {
   "cell_type": "code",
   "execution_count": null,
   "metadata": {},
   "outputs": [],
   "source": [
    "CURRENCYLAYER: b9ab7396a612608ec0a123a4d9c7a567\n",
    "    #https://currencylayer.com/quickstart\n",
    "\n",
    "#base URL: http://apilayer.net/api/\n",
    "\n",
    "#\"historical\" endpoint - request historical rates for a specific day\n",
    "http://apilayer.net/api/historical\n",
    "    ? access_key = YOUR_ACCESS_KEY\n",
    "    & date = YYYY-MM-DD\n",
    "    & source = \n",
    "    & currencies = \n",
    "    & format = 1\n",
    "\n",
    "\n"
   ]
  },
  {
   "cell_type": "code",
   "execution_count": null,
   "metadata": {},
   "outputs": [],
   "source": []
  }
 ],
 "metadata": {
  "kernelspec": {
   "display_name": "Python 3",
   "language": "python",
   "name": "python3"
  },
  "language_info": {
   "codemirror_mode": {
    "name": "ipython",
    "version": 3
   },
   "file_extension": ".py",
   "mimetype": "text/x-python",
   "name": "python",
   "nbconvert_exporter": "python",
   "pygments_lexer": "ipython3",
   "version": "3.7.1"
  }
 },
 "nbformat": 4,
 "nbformat_minor": 2
}
